{
 "cells": [
  {
   "cell_type": "code",
   "execution_count": 1,
   "id": "823f70f5-61b8-4e4e-9886-963fc1739989",
   "metadata": {},
   "outputs": [],
   "source": [
    "import pandas as pd\n",
    "df= pd.read_csv('nse_stock_data.csv')"
   ]
  },
  {
   "cell_type": "code",
   "execution_count": 2,
   "id": "e12ec56e-fd55-4e1e-9077-8dcf7ed4b49e",
   "metadata": {},
   "outputs": [
    {
     "data": {
      "text/html": [
       "<div>\n",
       "<style scoped>\n",
       "    .dataframe tbody tr th:only-of-type {\n",
       "        vertical-align: middle;\n",
       "    }\n",
       "\n",
       "    .dataframe tbody tr th {\n",
       "        vertical-align: top;\n",
       "    }\n",
       "\n",
       "    .dataframe thead th {\n",
       "        text-align: right;\n",
       "    }\n",
       "</style>\n",
       "<table border=\"1\" class=\"dataframe\">\n",
       "  <thead>\n",
       "    <tr style=\"text-align: right;\">\n",
       "      <th></th>\n",
       "      <th>Date</th>\n",
       "      <th>Open</th>\n",
       "      <th>High</th>\n",
       "      <th>Low</th>\n",
       "      <th>Close</th>\n",
       "      <th>Shares Traded</th>\n",
       "      <th>Turnover (₹ Cr)</th>\n",
       "    </tr>\n",
       "  </thead>\n",
       "  <tbody>\n",
       "    <tr>\n",
       "      <th>0</th>\n",
       "      <td>15-FEB-2024</td>\n",
       "      <td>21906.55</td>\n",
       "      <td>21953.85</td>\n",
       "      <td>21794.80</td>\n",
       "      <td>21910.75</td>\n",
       "      <td>345394395</td>\n",
       "      <td>29559.69</td>\n",
       "    </tr>\n",
       "    <tr>\n",
       "      <th>1</th>\n",
       "      <td>16-FEB-2024</td>\n",
       "      <td>22020.30</td>\n",
       "      <td>22068.65</td>\n",
       "      <td>21968.95</td>\n",
       "      <td>22040.70</td>\n",
       "      <td>343892935</td>\n",
       "      <td>30666.89</td>\n",
       "    </tr>\n",
       "    <tr>\n",
       "      <th>2</th>\n",
       "      <td>19-FEB-2024</td>\n",
       "      <td>22103.45</td>\n",
       "      <td>22186.65</td>\n",
       "      <td>22021.05</td>\n",
       "      <td>22122.25</td>\n",
       "      <td>218252325</td>\n",
       "      <td>21375.71</td>\n",
       "    </tr>\n",
       "    <tr>\n",
       "      <th>3</th>\n",
       "      <td>20-FEB-2024</td>\n",
       "      <td>22099.20</td>\n",
       "      <td>22215.60</td>\n",
       "      <td>22045.85</td>\n",
       "      <td>22196.95</td>\n",
       "      <td>295705319</td>\n",
       "      <td>26872.32</td>\n",
       "    </tr>\n",
       "    <tr>\n",
       "      <th>4</th>\n",
       "      <td>21-FEB-2024</td>\n",
       "      <td>22248.85</td>\n",
       "      <td>22249.40</td>\n",
       "      <td>21997.95</td>\n",
       "      <td>22055.05</td>\n",
       "      <td>364545679</td>\n",
       "      <td>29741.39</td>\n",
       "    </tr>\n",
       "  </tbody>\n",
       "</table>\n",
       "</div>"
      ],
      "text/plain": [
       "         Date      Open      High       Low     Close   Shares Traded   \\\n",
       "0  15-FEB-2024  21906.55  21953.85  21794.80  21910.75       345394395   \n",
       "1  16-FEB-2024  22020.30  22068.65  21968.95  22040.70       343892935   \n",
       "2  19-FEB-2024  22103.45  22186.65  22021.05  22122.25       218252325   \n",
       "3  20-FEB-2024  22099.20  22215.60  22045.85  22196.95       295705319   \n",
       "4  21-FEB-2024  22248.85  22249.40  21997.95  22055.05       364545679   \n",
       "\n",
       "   Turnover (₹ Cr)  \n",
       "0         29559.69  \n",
       "1         30666.89  \n",
       "2         21375.71  \n",
       "3         26872.32  \n",
       "4         29741.39  "
      ]
     },
     "execution_count": 2,
     "metadata": {},
     "output_type": "execute_result"
    }
   ],
   "source": [
    "df.head(5)"
   ]
  },
  {
   "cell_type": "code",
   "execution_count": 3,
   "id": "87fa528b-3441-466d-94b6-dedd18b0d68d",
   "metadata": {},
   "outputs": [
    {
     "name": "stdout",
     "output_type": "stream",
     "text": [
      "Requirement already satisfied: openpyxl in c:\\users\\tejas\\appdata\\local\\programs\\python\\python311\\lib\\site-packages (3.1.2)\n",
      "Requirement already satisfied: et-xmlfile in c:\\users\\tejas\\appdata\\local\\programs\\python\\python311\\lib\\site-packages (from openpyxl) (1.1.0)\n"
     ]
    }
   ],
   "source": [
    "!pip install openpyxl"
   ]
  },
  {
   "cell_type": "code",
   "execution_count": 4,
   "id": "4b850d61-2fae-4203-95ac-26c9614c79d6",
   "metadata": {},
   "outputs": [],
   "source": [
    "from openpyxl import Workbook"
   ]
  },
  {
   "cell_type": "code",
   "execution_count": 5,
   "id": "8478d066-0c72-459b-9ad6-75863298a5b9",
   "metadata": {},
   "outputs": [],
   "source": [
    "df.to_excel('sample.xlsx', index=False, sheet_name=\"sheet1\")"
   ]
  },
  {
   "cell_type": "code",
   "execution_count": 6,
   "id": "2aa5c2a1-f9ad-4243-9779-5ed53f40885c",
   "metadata": {},
   "outputs": [
    {
     "name": "stdout",
     "output_type": "stream",
     "text": [
      "<class 'pandas.core.frame.DataFrame'>\n",
      "RangeIndex: 5 entries, 0 to 4\n",
      "Data columns (total 7 columns):\n",
      " #   Column           Non-Null Count  Dtype  \n",
      "---  ------           --------------  -----  \n",
      " 0   Date             5 non-null      object \n",
      " 1   Open             5 non-null      float64\n",
      " 2   High             5 non-null      float64\n",
      " 3   Low              5 non-null      float64\n",
      " 4   Close            5 non-null      float64\n",
      " 5   Shares Traded    5 non-null      int64  \n",
      " 6   Turnover (₹ Cr)  5 non-null      float64\n",
      "dtypes: float64(5), int64(1), object(1)\n",
      "memory usage: 412.0+ bytes\n"
     ]
    }
   ],
   "source": [
    "df.info()"
   ]
  },
  {
   "cell_type": "code",
   "execution_count": 7,
   "id": "007de882-d519-4b59-bd0d-d5e632239dc6",
   "metadata": {},
   "outputs": [
    {
     "data": {
      "text/html": [
       "<div>\n",
       "<style scoped>\n",
       "    .dataframe tbody tr th:only-of-type {\n",
       "        vertical-align: middle;\n",
       "    }\n",
       "\n",
       "    .dataframe tbody tr th {\n",
       "        vertical-align: top;\n",
       "    }\n",
       "\n",
       "    .dataframe thead th {\n",
       "        text-align: right;\n",
       "    }\n",
       "</style>\n",
       "<table border=\"1\" class=\"dataframe\">\n",
       "  <thead>\n",
       "    <tr style=\"text-align: right;\">\n",
       "      <th></th>\n",
       "      <th>Open</th>\n",
       "      <th>High</th>\n",
       "      <th>Low</th>\n",
       "      <th>Close</th>\n",
       "      <th>Shares Traded</th>\n",
       "      <th>Turnover (₹ Cr)</th>\n",
       "    </tr>\n",
       "  </thead>\n",
       "  <tbody>\n",
       "    <tr>\n",
       "      <th>count</th>\n",
       "      <td>5.000000</td>\n",
       "      <td>5.000000</td>\n",
       "      <td>5.000000</td>\n",
       "      <td>5.000000</td>\n",
       "      <td>5.000000e+00</td>\n",
       "      <td>5.000000</td>\n",
       "    </tr>\n",
       "    <tr>\n",
       "      <th>mean</th>\n",
       "      <td>22075.670000</td>\n",
       "      <td>22134.830000</td>\n",
       "      <td>21965.720000</td>\n",
       "      <td>22065.140000</td>\n",
       "      <td>3.135581e+08</td>\n",
       "      <td>27643.200000</td>\n",
       "    </tr>\n",
       "    <tr>\n",
       "      <th>std</th>\n",
       "      <td>125.483179</td>\n",
       "      <td>121.931275</td>\n",
       "      <td>99.680838</td>\n",
       "      <td>106.267142</td>\n",
       "      <td>5.902414e+07</td>\n",
       "      <td>3778.019431</td>\n",
       "    </tr>\n",
       "    <tr>\n",
       "      <th>min</th>\n",
       "      <td>21906.550000</td>\n",
       "      <td>21953.850000</td>\n",
       "      <td>21794.800000</td>\n",
       "      <td>21910.750000</td>\n",
       "      <td>2.182523e+08</td>\n",
       "      <td>21375.710000</td>\n",
       "    </tr>\n",
       "    <tr>\n",
       "      <th>25%</th>\n",
       "      <td>22020.300000</td>\n",
       "      <td>22068.650000</td>\n",
       "      <td>21968.950000</td>\n",
       "      <td>22040.700000</td>\n",
       "      <td>2.957053e+08</td>\n",
       "      <td>26872.320000</td>\n",
       "    </tr>\n",
       "    <tr>\n",
       "      <th>50%</th>\n",
       "      <td>22099.200000</td>\n",
       "      <td>22186.650000</td>\n",
       "      <td>21997.950000</td>\n",
       "      <td>22055.050000</td>\n",
       "      <td>3.438929e+08</td>\n",
       "      <td>29559.690000</td>\n",
       "    </tr>\n",
       "    <tr>\n",
       "      <th>75%</th>\n",
       "      <td>22103.450000</td>\n",
       "      <td>22215.600000</td>\n",
       "      <td>22021.050000</td>\n",
       "      <td>22122.250000</td>\n",
       "      <td>3.453944e+08</td>\n",
       "      <td>29741.390000</td>\n",
       "    </tr>\n",
       "    <tr>\n",
       "      <th>max</th>\n",
       "      <td>22248.850000</td>\n",
       "      <td>22249.400000</td>\n",
       "      <td>22045.850000</td>\n",
       "      <td>22196.950000</td>\n",
       "      <td>3.645457e+08</td>\n",
       "      <td>30666.890000</td>\n",
       "    </tr>\n",
       "  </tbody>\n",
       "</table>\n",
       "</div>"
      ],
      "text/plain": [
       "              Open          High           Low         Close   Shares Traded   \\\n",
       "count      5.000000      5.000000      5.000000      5.000000    5.000000e+00   \n",
       "mean   22075.670000  22134.830000  21965.720000  22065.140000    3.135581e+08   \n",
       "std      125.483179    121.931275     99.680838    106.267142    5.902414e+07   \n",
       "min    21906.550000  21953.850000  21794.800000  21910.750000    2.182523e+08   \n",
       "25%    22020.300000  22068.650000  21968.950000  22040.700000    2.957053e+08   \n",
       "50%    22099.200000  22186.650000  21997.950000  22055.050000    3.438929e+08   \n",
       "75%    22103.450000  22215.600000  22021.050000  22122.250000    3.453944e+08   \n",
       "max    22248.850000  22249.400000  22045.850000  22196.950000    3.645457e+08   \n",
       "\n",
       "       Turnover (₹ Cr)  \n",
       "count         5.000000  \n",
       "mean      27643.200000  \n",
       "std        3778.019431  \n",
       "min       21375.710000  \n",
       "25%       26872.320000  \n",
       "50%       29559.690000  \n",
       "75%       29741.390000  \n",
       "max       30666.890000  "
      ]
     },
     "execution_count": 7,
     "metadata": {},
     "output_type": "execute_result"
    }
   ],
   "source": [
    "df.describe()"
   ]
  },
  {
   "cell_type": "code",
   "execution_count": 8,
   "id": "987d3827-f904-4e78-b2b1-0d42ffd034fb",
   "metadata": {},
   "outputs": [
    {
     "name": "stdout",
     "output_type": "stream",
     "text": [
      "22249.4\n",
      "21953.85\n",
      "22134.829999999998\n",
      "0    21953.85\n",
      "1    22068.65\n",
      "2    22186.65\n",
      "3    22215.60\n",
      "4    22249.40\n",
      "Name: High , dtype: float64\n",
      "22186.65\n",
      "5\n"
     ]
    }
   ],
   "source": [
    "print(df['High '].max())\n",
    "print(df['High '].min())\n",
    "print(df['High '].mean())\n",
    "print(df['High '].mode())\n",
    "print(df['High '].median())\n",
    "print(df['High '].count())"
   ]
  },
  {
   "cell_type": "code",
   "execution_count": 9,
   "id": "b65d07a5-25a3-4c49-b1d1-c67c6262cb04",
   "metadata": {},
   "outputs": [],
   "source": [
    "import pandas as pd\n",
    "df_excel = pd.read_excel(\"Pandas_practice_excel.xlsx\")"
   ]
  },
  {
   "cell_type": "code",
   "execution_count": 10,
   "id": "33b9c9ec-25a6-4f03-8ce9-8b3ec6fa7e04",
   "metadata": {},
   "outputs": [
    {
     "data": {
      "text/html": [
       "<div>\n",
       "<style scoped>\n",
       "    .dataframe tbody tr th:only-of-type {\n",
       "        vertical-align: middle;\n",
       "    }\n",
       "\n",
       "    .dataframe tbody tr th {\n",
       "        vertical-align: top;\n",
       "    }\n",
       "\n",
       "    .dataframe thead th {\n",
       "        text-align: right;\n",
       "    }\n",
       "</style>\n",
       "<table border=\"1\" class=\"dataframe\">\n",
       "  <thead>\n",
       "    <tr style=\"text-align: right;\">\n",
       "      <th></th>\n",
       "      <th>Name</th>\n",
       "      <th>City</th>\n",
       "      <th>Temp</th>\n",
       "    </tr>\n",
       "  </thead>\n",
       "  <tbody>\n",
       "    <tr>\n",
       "      <th>0</th>\n",
       "      <td>Tejas</td>\n",
       "      <td>Thane</td>\n",
       "      <td>25</td>\n",
       "    </tr>\n",
       "    <tr>\n",
       "      <th>1</th>\n",
       "      <td>Rohit</td>\n",
       "      <td>Nerul</td>\n",
       "      <td>26</td>\n",
       "    </tr>\n",
       "    <tr>\n",
       "      <th>2</th>\n",
       "      <td>Rashmi</td>\n",
       "      <td>Mumbai</td>\n",
       "      <td>27</td>\n",
       "    </tr>\n",
       "    <tr>\n",
       "      <th>3</th>\n",
       "      <td>Chikoo</td>\n",
       "      <td>Panvel</td>\n",
       "      <td>28</td>\n",
       "    </tr>\n",
       "  </tbody>\n",
       "</table>\n",
       "</div>"
      ],
      "text/plain": [
       "     Name    City  Temp\n",
       "0   Tejas   Thane    25\n",
       "1   Rohit   Nerul    26\n",
       "2  Rashmi  Mumbai    27\n",
       "3  Chikoo  Panvel    28"
      ]
     },
     "execution_count": 10,
     "metadata": {},
     "output_type": "execute_result"
    }
   ],
   "source": [
    "df_excel.head()"
   ]
  },
  {
   "cell_type": "code",
   "execution_count": 11,
   "id": "c943162f-2174-4b06-b1e9-3e2b56c8cae1",
   "metadata": {},
   "outputs": [
    {
     "name": "stdout",
     "output_type": "stream",
     "text": [
      "            Name    City  windspeed\n",
      "0   Tejas Padwal   Thane          5\n",
      "1   Rohit Padwal   Nerul          6\n",
      "2  Rashmi Padwal  Mumbai          7\n",
      "3  Chikoo Padwal  Panvel          8\n",
      "     Name    City  Temp\n",
      "0   Tejas   Thane    25\n",
      "1   Rohit   Nerul    26\n",
      "2  Rashmi  Mumbai    27\n",
      "3  Chikoo  Panvel    28\n"
     ]
    }
   ],
   "source": [
    "df_excel_sheet3 = pd.read_excel(\"Pandas_practice_excel.xlsx\", sheet_name='Sheet3')\n",
    "print(df_excel_sheet3)\n",
    "print(df_excel)"
   ]
  },
  {
   "cell_type": "code",
   "execution_count": 12,
   "id": "0485a95d-d027-4a08-bc15-8a737ea730d5",
   "metadata": {},
   "outputs": [
    {
     "name": "stdout",
     "output_type": "stream",
     "text": [
      "    Rohit   Nerul  26\n",
      "0  Rashmi  Mumbai  27\n",
      "1  Chikoo  Panvel  28\n"
     ]
    }
   ],
   "source": [
    "df_skip_rows = pd.read_excel(\"Pandas_practice_excel.xlsx\", sheet_name='Sheet1', skiprows=2)\n",
    "print(df_skip_rows)"
   ]
  },
  {
   "cell_type": "code",
   "execution_count": 13,
   "id": "2f50846b-74bd-4ff7-8110-7c8c6e075748",
   "metadata": {},
   "outputs": [
    {
     "name": "stdout",
     "output_type": "stream",
     "text": [
      "     Name    City\n",
      "0   Tejas   Thane\n",
      "1   Rohit   Nerul\n",
      "2  Rashmi  Mumbai\n",
      "3  Chikoo  Panvel\n"
     ]
    }
   ],
   "source": [
    "df_specifc_columns = pd.read_excel(\"Pandas_practice_excel.xlsx\", sheet_name='Sheet1',  usecols=['Name','City'])\n",
    "print(df_specifc_columns)"
   ]
  },
  {
   "cell_type": "code",
   "execution_count": 14,
   "id": "402b739d-3c2e-4095-b774-11b8c1b97abf",
   "metadata": {},
   "outputs": [
    {
     "name": "stdout",
     "output_type": "stream",
     "text": [
      "    Rohit   Nerul  26\n",
      "0  Rashmi  Mumbai  27\n",
      "1  Chikoo  Panvel  28\n"
     ]
    }
   ],
   "source": [
    "df_specifc_columns = pd.read_excel(\"Pandas_practice_excel.xlsx\", sheet_name='Sheet1', header=2)\n",
    "print(df_specifc_columns)"
   ]
  },
  {
   "cell_type": "code",
   "execution_count": 15,
   "id": "f4ea98d0-9a67-4219-91ab-20c0ec2563fe",
   "metadata": {},
   "outputs": [
    {
     "name": "stdout",
     "output_type": "stream",
     "text": [
      "            Name    City  windspeed\n",
      "0   Tejas Padwal   Thane          5\n",
      "1   Rohit Padwal   Nerul          6\n",
      "2  Rashmi Padwal  Mumbai          7\n",
      "3  Chikoo Padwal  Panvel          8\n",
      "     Name    City  Temp\n",
      "0   Tejas   Thane    25\n",
      "1   Rohit   Nerul    26\n",
      "2  Rashmi  Mumbai    27\n",
      "3  Chikoo  Panvel    28\n"
     ]
    }
   ],
   "source": [
    "print(df_excel_sheet3)\n",
    "print(df_excel)"
   ]
  },
  {
   "cell_type": "code",
   "execution_count": 16,
   "id": "dac30429-fed2-4a0d-a1be-4edc1eae37fa",
   "metadata": {},
   "outputs": [
    {
     "name": "stdout",
     "output_type": "stream",
     "text": [
      "   Name_x    City  Temp         Name_y  windspeed\n",
      "0   Tejas   Thane    25   Tejas Padwal          5\n",
      "1   Rohit   Nerul    26   Rohit Padwal          6\n",
      "2  Rashmi  Mumbai    27  Rashmi Padwal          7\n",
      "3  Chikoo  Panvel    28  Chikoo Padwal          8\n"
     ]
    }
   ],
   "source": [
    "df_inner_merge = pd.merge(df_excel, df_excel_sheet3 , on ='City' ,how='inner')\n",
    "print(df_inner_merge)"
   ]
  },
  {
   "cell_type": "code",
   "execution_count": 17,
   "id": "a776226b-6829-4e95-8a8e-86a15814de3c",
   "metadata": {},
   "outputs": [
    {
     "name": "stdout",
     "output_type": "stream",
     "text": [
      "   Name_x    City  Temp         Name_y  windspeed\n",
      "0   Tejas   Thane    25   Tejas Padwal          5\n",
      "1   Rohit   Nerul    26   Rohit Padwal          6\n",
      "2  Rashmi  Mumbai    27  Rashmi Padwal          7\n",
      "3  Chikoo  Panvel    28  Chikoo Padwal          8\n"
     ]
    }
   ],
   "source": [
    "df_left_merge = pd.merge(df_excel, df_excel_sheet3, on='City', how='left')\n",
    "print(df_left_merge)"
   ]
  },
  {
   "cell_type": "code",
   "execution_count": 18,
   "id": "8f418a09-5879-4cad-a453-2e0f153b5762",
   "metadata": {},
   "outputs": [
    {
     "name": "stdout",
     "output_type": "stream",
     "text": [
      "     Name    City  population\n",
      "0  Mitesh  Panvel        1000\n",
      "1  Satish   Thane        2000\n",
      "2   omkar   Kalwa        3000\n"
     ]
    }
   ],
   "source": [
    "dict = {\"Name\":[\"Mitesh\", \"Satish\",\"omkar\"],\n",
    "        \"City\":[\"Panvel\", \"Thane\", \"Kalwa\"],\n",
    "        \"population\":[1000, 2000, 3000]}\n",
    "new_data_frame = pd.DataFrame(dict)\n",
    "print(new_data_frame)"
   ]
  },
  {
   "cell_type": "code",
   "execution_count": 19,
   "id": "bd2c3641-8ce0-4ecd-8ed3-b0b902dbc307",
   "metadata": {},
   "outputs": [
    {
     "name": "stdout",
     "output_type": "stream",
     "text": [
      "   Name_x    City  Temp  Name_y  population\n",
      "0   Tejas   Thane    25  Satish      2000.0\n",
      "1   Rohit   Nerul    26     NaN         NaN\n",
      "2  Rashmi  Mumbai    27     NaN         NaN\n",
      "3  Chikoo  Panvel    28  Mitesh      1000.0\n"
     ]
    }
   ],
   "source": [
    "df_left_merge = pd.merge(df_excel, new_data_frame, on='City', how='left')\n",
    "print(df_left_merge)"
   ]
  },
  {
   "cell_type": "code",
   "execution_count": 20,
   "id": "e1479c08-1248-4507-8902-f1458a0df811",
   "metadata": {},
   "outputs": [
    {
     "name": "stdout",
     "output_type": "stream",
     "text": [
      "   Name_x    City  Temp  Name_y  population\n",
      "0  Chikoo  Panvel  28.0  Mitesh        1000\n",
      "1   Tejas   Thane  25.0  Satish        2000\n",
      "2     NaN   Kalwa   NaN   omkar        3000\n"
     ]
    }
   ],
   "source": [
    "df_right_merge = pd.merge(df_excel, new_data_frame, on='City', how='right')\n",
    "print(df_right_merge)"
   ]
  },
  {
   "cell_type": "code",
   "execution_count": 21,
   "id": "d222e9bb-8491-41cd-9a5b-2f43261a3719",
   "metadata": {},
   "outputs": [
    {
     "name": "stdout",
     "output_type": "stream",
     "text": [
      "   Name_x    City  Temp  Name_y  population\n",
      "0   Tejas   Thane  25.0  Satish      2000.0\n",
      "1   Rohit   Nerul  26.0     NaN         NaN\n",
      "2  Rashmi  Mumbai  27.0     NaN         NaN\n",
      "3  Chikoo  Panvel  28.0  Mitesh      1000.0\n",
      "4     NaN   Kalwa   NaN   omkar      3000.0\n"
     ]
    }
   ],
   "source": [
    "df_outer_merge = pd.merge(df_excel, new_data_frame, on='City', how='outer')\n",
    "print(df_outer_merge)"
   ]
  },
  {
   "cell_type": "code",
   "execution_count": 22,
   "id": "d7fb96a4-608d-46bb-b261-4e6c99b2fc71",
   "metadata": {},
   "outputs": [
    {
     "name": "stdout",
     "output_type": "stream",
     "text": [
      "   Name_x    City  Temp  Name_y  population\n",
      "0   Tejas   Thane    25  Satish        2000\n",
      "1  Chikoo  Panvel    28  Mitesh        1000\n"
     ]
    }
   ],
   "source": [
    "df_inner_merge2 = pd.merge(df_excel, new_data_frame, on='City', how='inner')\n",
    "print(df_inner_merge2)"
   ]
  },
  {
   "cell_type": "code",
   "execution_count": 23,
   "id": "06fa3a39-7a13-4942-b1ee-b3e040921f2a",
   "metadata": {},
   "outputs": [
    {
     "name": "stdout",
     "output_type": "stream",
     "text": [
      "     Name    City  Temp    Name    City  population\n",
      "0   Tejas   Thane    25  Mitesh  Panvel      1000.0\n",
      "1   Rohit   Nerul    26  Satish   Thane      2000.0\n",
      "2  Rashmi  Mumbai    27   omkar   Kalwa      3000.0\n",
      "3  Chikoo  Panvel    28     NaN     NaN         NaN\n"
     ]
    }
   ],
   "source": [
    "df_caoncat_columns = pd.concat([df_excel, new_data_frame], axis=1)\n",
    "print(df_caoncat_columns)"
   ]
  },
  {
   "cell_type": "code",
   "execution_count": 24,
   "id": "87a2ccc2-aeba-43df-82f5-d41705312908",
   "metadata": {},
   "outputs": [
    {
     "name": "stdout",
     "output_type": "stream",
     "text": [
      "     Name    City  Temp  population\n",
      "0   Tejas   Thane  25.0         NaN\n",
      "1   Rohit   Nerul  26.0         NaN\n",
      "2  Rashmi  Mumbai  27.0         NaN\n",
      "3  Chikoo  Panvel  28.0         NaN\n",
      "0  Mitesh  Panvel   NaN      1000.0\n",
      "1  Satish   Thane   NaN      2000.0\n",
      "2   omkar   Kalwa   NaN      3000.0\n"
     ]
    }
   ],
   "source": [
    "df_caoncat_rows = pd.concat([df_excel, new_data_frame], axis=0)\n",
    "print(df_caoncat_rows)"
   ]
  },
  {
   "cell_type": "code",
   "execution_count": 25,
   "id": "14397595-72e1-44a1-952a-34735233920c",
   "metadata": {},
   "outputs": [
    {
     "name": "stdout",
     "output_type": "stream",
     "text": [
      "     Name    City  Temp  population\n",
      "0   Tejas   Thane  25.0         NaN\n",
      "1   Rohit   Nerul  26.0         NaN\n",
      "2  Rashmi  Mumbai  27.0         NaN\n",
      "3  Chikoo  Panvel  28.0         NaN\n",
      "0  Mitesh  Panvel   NaN      1000.0\n",
      "1  Satish   Thane   NaN      2000.0\n",
      "2   omkar   Kalwa   NaN      3000.0\n"
     ]
    }
   ],
   "source": [
    "df_string = df_caoncat_rows.to_string()\n",
    "print(df_string)"
   ]
  },
  {
   "cell_type": "code",
   "execution_count": 26,
   "id": "60243b28-7048-4ad0-a08a-2d7d055b8d4e",
   "metadata": {},
   "outputs": [
    {
     "name": "stdout",
     "output_type": "stream",
     "text": [
      "select some columns from data frame.:\n",
      "     Name    City\n",
      "0   Tejas   Thane\n",
      "1   Rohit   Nerul\n",
      "2  Rashmi  Mumbai\n",
      "3  Chikoo  Panvel\n",
      "0  Mitesh  Panvel\n",
      "1  Satish   Thane\n",
      "2   omkar   Kalwa\n"
     ]
    }
   ],
   "source": [
    "print(\"select some columns from data frame.:\")\n",
    "print(df_caoncat_rows[['Name','City']])"
   ]
  },
  {
   "cell_type": "code",
   "execution_count": 33,
   "id": "9532de88-fc36-48c0-abe1-584dcb40bc34",
   "metadata": {},
   "outputs": [
    {
     "name": "stdout",
     "output_type": "stream",
     "text": [
      "Use of loc on data frame. loc use colums , idex name\n",
      "0     Tejas\n",
      "0    Mitesh\n",
      "Name: Name, dtype: object\n",
      "########################################\n",
      "     Name    City\n",
      "0   Tejas   Thane\n",
      "0  Mitesh  Panvel\n",
      "1   Rohit   Nerul\n",
      "1  Satish   Thane\n",
      "2  Rashmi  Mumbai\n",
      "2   omkar   Kalwa\n",
      "3  Chikoo  Panvel\n"
     ]
    }
   ],
   "source": [
    "print('Use of loc on data frame. loc use colums , idex name')\n",
    "print(df_caoncat_rows.loc[0,'Name'])\n",
    "print(\"########################################\")\n",
    "print(df_caoncat_rows.loc[[0,1,2,3],['Name','City']])"
   ]
  },
  {
   "cell_type": "code",
   "execution_count": 39,
   "id": "16811326-cb2d-44ab-b45d-16ef64c66992",
   "metadata": {},
   "outputs": [
    {
     "name": "stdout",
     "output_type": "stream",
     "text": [
      "Use of iloc on data frame. iloc uses \n",
      "26.0\n",
      "#################################################\n",
      "    Name   City\n",
      "0  Tejas  Thane\n",
      "1  Rohit  Nerul\n"
     ]
    }
   ],
   "source": [
    "print(\"Use of iloc on data frame. iloc uses \")\n",
    "print(df_caoncat_rows.iloc[1,2])\n",
    "print('#################################################')\n",
    "print(df_caoncat_rows.iloc[0:2,0:2])"
   ]
  },
  {
   "cell_type": "code",
   "execution_count": 41,
   "id": "8f13eeaa-6f97-4e49-ab2f-cc86c4e53067",
   "metadata": {},
   "outputs": [
    {
     "name": "stdout",
     "output_type": "stream",
     "text": [
      "   empolye_id Employee_name  Employee_salary\n",
      "0          11         Tejas            40000\n",
      "1          12         Rohit            45000\n",
      "2          13        Rashmi            35000\n",
      "3          14        Chikoo            55000\n",
      "4          15        Padwal            38000\n"
     ]
    }
   ],
   "source": [
    "e_data = {\"empolye_id\":[11, 12, 13, 14, 15],\n",
    "          'Employee_name':['Tejas', 'Rohit', 'Rashmi', 'Chikoo', 'Padwal'],\n",
    "          'Employee_salary':[40000, 45000, 35000, 55000, 38000]}\n",
    "employee_df = pd.DataFrame(e_data)\n",
    "print(employee_df)"
   ]
  },
  {
   "cell_type": "code",
   "execution_count": 42,
   "id": "82277273-a177-41cc-8133-5606c882d550",
   "metadata": {},
   "outputs": [
    {
     "name": "stdout",
     "output_type": "stream",
     "text": [
      "sorting data froma on basis of salry asending:\n",
      "   empolye_id Employee_name  Employee_salary\n",
      "2          13        Rashmi            35000\n",
      "4          15        Padwal            38000\n",
      "0          11         Tejas            40000\n",
      "1          12         Rohit            45000\n",
      "3          14        Chikoo            55000\n"
     ]
    }
   ],
   "source": [
    "print('sorting data froma on basis of salry asending:')\n",
    "sort_a = employee_df.sort_values(by='Employee_salary')\n",
    "print(sort_a)"
   ]
  },
  {
   "cell_type": "code",
   "execution_count": 43,
   "id": "f0276b35-2531-4f50-9ab3-636e7cf49c1d",
   "metadata": {},
   "outputs": [
    {
     "name": "stdout",
     "output_type": "stream",
     "text": [
      "sorting data froma on basis of salry asending:\n",
      "   empolye_id Employee_name  Employee_salary\n",
      "3          14        Chikoo            55000\n",
      "1          12         Rohit            45000\n",
      "0          11         Tejas            40000\n",
      "4          15        Padwal            38000\n",
      "2          13        Rashmi            35000\n"
     ]
    }
   ],
   "source": [
    "print('sorting data froma on basis of salry asending:')\n",
    "sort_d = employee_df.sort_values(by='Employee_salary', ascending=False)\n",
    "print(sort_d)"
   ]
  },
  {
   "cell_type": "code",
   "execution_count": 47,
   "id": "fd387aaf-a3b7-4ccc-bdf9-9bab10e26fcb",
   "metadata": {},
   "outputs": [
    {
     "name": "stdout",
     "output_type": "stream",
     "text": [
      "secood higest salried employyee.: empolye_id            12\n",
      "Employee_name      Rohit\n",
      "Employee_salary    45000\n",
      "Name: 1, dtype: object\n",
      "###########################################################\n",
      "seconf lowest salaried employee.: empolye_id             15\n",
      "Employee_name      Padwal\n",
      "Employee_salary     38000\n",
      "Name: 4, dtype: object\n"
     ]
    }
   ],
   "source": [
    "print(\"secood higest salried employyee.:\", sort_d.iloc[1])\n",
    "print(\"###########################################################\")\n",
    "print(\"seconf lowest salaried employee.:\", sort_a.iloc[1])"
   ]
  },
  {
   "cell_type": "code",
   "execution_count": null,
   "id": "9b2f0022-5a59-4dc8-9056-e5fb987e8284",
   "metadata": {},
   "outputs": [],
   "source": []
  }
 ],
 "metadata": {
  "kernelspec": {
   "display_name": "Python 3 (ipykernel)",
   "language": "python",
   "name": "python3"
  },
  "language_info": {
   "codemirror_mode": {
    "name": "ipython",
    "version": 3
   },
   "file_extension": ".py",
   "mimetype": "text/x-python",
   "name": "python",
   "nbconvert_exporter": "python",
   "pygments_lexer": "ipython3",
   "version": "3.11.3"
  }
 },
 "nbformat": 4,
 "nbformat_minor": 5
}
