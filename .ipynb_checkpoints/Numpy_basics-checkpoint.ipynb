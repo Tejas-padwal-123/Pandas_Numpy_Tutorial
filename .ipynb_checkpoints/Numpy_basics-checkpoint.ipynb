{
 "cells": [
  {
   "cell_type": "markdown",
   "id": "48bf5a23-9641-4ed2-a1eb-40e45b1effc9",
   "metadata": {},
   "source": [
    "#Numpy Basics"
   ]
  },
  {
   "cell_type": "markdown",
   "id": "fc0ab61a-577f-4268-b31e-bdb142a0ddb0",
   "metadata": {},
   "source": [
    "##1d array OR uni-dimension array"
   ]
  },
  {
   "cell_type": "code",
   "execution_count": 1,
   "id": "61ccbce7-8de8-42df-b1d0-033f706471e2",
   "metadata": {},
   "outputs": [],
   "source": [
    "import numpy as np"
   ]
  },
  {
   "cell_type": "code",
   "execution_count": 2,
   "id": "84e8a6ee-80f4-4d4a-af47-84948bce2a49",
   "metadata": {},
   "outputs": [
    {
     "name": "stdout",
     "output_type": "stream",
     "text": [
      "creating arr from list: [1 2 3 4 6]\n"
     ]
    }
   ],
   "source": [
    "arrl = np.array([1,2,3,4,6])\n",
    "print(\"creating arr from list:\", arrl)"
   ]
  },
  {
   "cell_type": "code",
   "execution_count": 3,
   "id": "8756e181-46b3-469c-8a06-c4818d2efc14",
   "metadata": {},
   "outputs": [
    {
     "name": "stdout",
     "output_type": "stream",
     "text": [
      "Creating arr from tuple: [1 2 3 4 6]\n"
     ]
    }
   ],
   "source": [
    "arrt = np.array((1,2,3,4,6))\n",
    "print(\"Creating arr from tuple:\", arrt)"
   ]
  },
  {
   "cell_type": "code",
   "execution_count": 5,
   "id": "5edd13b6-4f5b-43bc-8d80-81a7a6801d5c",
   "metadata": {},
   "outputs": [
    {
     "name": "stdout",
     "output_type": "stream",
     "text": [
      "<class 'numpy.ndarray'>\n"
     ]
    }
   ],
   "source": [
    "print(type(arrt))"
   ]
  },
  {
   "cell_type": "markdown",
   "id": "b69ef313-af76-4ff7-b471-a87b562ea027",
   "metadata": {},
   "source": [
    "#2 D array 2-dimensional array"
   ]
  },
  {
   "cell_type": "code",
   "execution_count": 6,
   "id": "e56c9992-b184-47a6-9a21-a5bc156835c1",
   "metadata": {},
   "outputs": [
    {
     "name": "stdout",
     "output_type": "stream",
     "text": [
      "[[1 2 3]\n",
      " [4 5 6]]\n"
     ]
    }
   ],
   "source": [
    "import numpy as np\n",
    "arr1 = np.array([[1,2,3,], [4,5,6]])\n",
    "print(arr1)"
   ]
  },
  {
   "cell_type": "markdown",
   "id": "be47a4c5-c6cd-4838-9143-c3887e6c208e",
   "metadata": {},
   "source": [
    "#Find dimensiom of array."
   ]
  },
  {
   "cell_type": "code",
   "execution_count": 9,
   "id": "85070a4a-25ea-455c-921d-8b38a107c50f",
   "metadata": {},
   "outputs": [
    {
     "name": "stdout",
     "output_type": "stream",
     "text": [
      "2\n",
      "1\n"
     ]
    }
   ],
   "source": [
    "print(arr1.ndim)\n",
    "print(arrt.ndim)"
   ]
  },
  {
   "cell_type": "code",
   "execution_count": 12,
   "id": "82fcebc8-4214-4d46-b45c-c5cdbc1b1c53",
   "metadata": {},
   "outputs": [
    {
     "name": "stdout",
     "output_type": "stream",
     "text": [
      "[[[1 2 3]]\n",
      "\n",
      " [[4 5 6]]]\n"
     ]
    }
   ],
   "source": [
    "arr2 = np.array([[[1,2,3]], [[4,5,6]]])\n",
    "print(arr2)"
   ]
  },
  {
   "cell_type": "markdown",
   "id": "bc69e997-352f-41be-9fd6-c4906ad5113d",
   "metadata": {},
   "source": [
    "#numpy array indexing"
   ]
  },
  {
   "cell_type": "code",
   "execution_count": 13,
   "id": "036fd70b-af91-4fed-a0d4-71041b2825f3",
   "metadata": {},
   "outputs": [
    {
     "name": "stdout",
     "output_type": "stream",
     "text": [
      "accesing first value of arrt array: 1\n",
      "acccessing last value of arrt array: 6\n"
     ]
    }
   ],
   "source": [
    "print(\"accesing first value of arrt array:\", arrt[0])\n",
    "print('acccessing last value of arrt array:', arrt[-1])"
   ]
  },
  {
   "cell_type": "code",
   "execution_count": 15,
   "id": "cceb9b58-b44a-42b3-a45f-03aba6e7845c",
   "metadata": {},
   "outputs": [
    {
     "name": "stdout",
     "output_type": "stream",
     "text": [
      "selcting first row of arr1 2d array  [1 2 3]\n",
      "selecting 2nd value of 3nd row of 2da array 6\n"
     ]
    }
   ],
   "source": [
    "print(\"selcting first row of arr1 2d array \", arr1[0])\n",
    "print(\"selecting 2nd value of 3nd row of 2da array\", arr1[1, 2])"
   ]
  },
  {
   "cell_type": "code",
   "execution_count": 19,
   "id": "c1187d5a-49ae-4a1c-aa37-1f93d750cda1",
   "metadata": {},
   "outputs": [
    {
     "name": "stdout",
     "output_type": "stream",
     "text": [
      "selecting  2\n"
     ]
    }
   ],
   "source": [
    "print(\"selecting \", arr2[0, 0, 1])"
   ]
  },
  {
   "cell_type": "code",
   "execution_count": 22,
   "id": "d279aea6-f748-4f5e-87cf-05376814e108",
   "metadata": {},
   "outputs": [
    {
     "name": "stdout",
     "output_type": "stream",
     "text": [
      "add using + oprator: [5 7 9]\n",
      "add using np.add : [5 7 9]\n"
     ]
    }
   ],
   "source": [
    "array1 = np.array([1, 2, 3])\n",
    "array2 = np.array([4, 5, 6])\n",
    "add1 = array1 + array2\n",
    "print(\"add using + opretor:\", add1)\n",
    "add2 = np.add(array1, array2)\n",
    "print(\"add using np.add :\", add2)"
   ]
  },
  {
   "cell_type": "code",
   "execution_count": 25,
   "id": "2d935d5b-6847-43aa-b8a9-2d9acb701a86",
   "metadata": {},
   "outputs": [
    {
     "name": "stdout",
     "output_type": "stream",
     "text": [
      "miulitiplication using * [ 4 10 18]\n",
      "Multiplication using np.mul [ 4 10 18]\n"
     ]
    }
   ],
   "source": [
    "mul1 = array1 * array2\n",
    "mul2 = np.multiply(array1, array2)\n",
    "print(\"miultiplication using *\", mul1)\n",
    "print(\"Multiplication using np.mul\", mul2)"
   ]
  },
  {
   "cell_type": "code",
   "execution_count": 29,
   "id": "05cd13cc-3e5d-4f1d-8991-7ed99a323de1",
   "metadata": {},
   "outputs": [
    {
     "name": "stdout",
     "output_type": "stream",
     "text": [
      "dot product of array1 and aray2 32\n",
      "dot product of array2 and array1 32\n"
     ]
    }
   ],
   "source": [
    "#dot product of array1 and array2\n",
    "adotb = np.dot(array1, array2)\n",
    "print(\"dot product of array1 and aray2\", adotb)\n",
    "bdota = np.dot(array2, array1)\n",
    "print(\"dot product of array2 and array1\", bdota)"
   ]
  },
  {
   "cell_type": "code",
   "execution_count": null,
   "id": "46724a03-5160-4020-a880-a4e7f8a7a655",
   "metadata": {},
   "outputs": [],
   "source": []
  }
 ],
 "metadata": {
  "kernelspec": {
   "display_name": "Python 3 (ipykernel)",
   "language": "python",
   "name": "python3"
  },
  "language_info": {
   "codemirror_mode": {
    "name": "ipython",
    "version": 3
   },
   "file_extension": ".py",
   "mimetype": "text/x-python",
   "name": "python",
   "nbconvert_exporter": "python",
   "pygments_lexer": "ipython3",
   "version": "3.11.3"
  }
 },
 "nbformat": 4,
 "nbformat_minor": 5
}
